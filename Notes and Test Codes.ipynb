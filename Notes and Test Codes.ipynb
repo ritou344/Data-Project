{
 "cells": [
  {
   "cell_type": "markdown",
   "id": "1932dbcc",
   "metadata": {},
   "source": [
    "# Draft notebook to test codes / notes"
   ]
  },
  {
   "cell_type": "markdown",
   "id": "302c9127",
   "metadata": {},
   "source": [
    "---\n",
    "### Don't know how to use Markdown? \n",
    "__[Click on this link!](https://www.datacamp.com/tutorial/markdown-in-jupyter-notebook)__\n",
    "\n",
    "**FYI: Markdown is basically HTML programming language**\n",
    "\n",
    "---"
   ]
  },
  {
   "cell_type": "markdown",
   "id": "87479d91",
   "metadata": {},
   "source": [
    "## Notes:\n",
    "\n",
    "- Don't worry where you store the notebooks and files, as long as they are all in the folder name **\"DATA490_Project\"**. This help our files all synchronized.\n",
    "- Jupyter notebooks can gain access to file inside other folder, but the other way is restricted.\n",
    "- **Never** print the whole dataset in notebook! You don't want this if looking up the file on Github Web Browser. `.head(30)` should be okay.\n",
    "\n",
    "---"
   ]
  },
  {
   "cell_type": "markdown",
   "id": "6e73b3f6",
   "metadata": {},
   "source": [
    "## Test codes:"
   ]
  },
  {
   "cell_type": "code",
   "execution_count": 1,
   "id": "92ff3164",
   "metadata": {},
   "outputs": [
    {
     "data": {
      "text/html": [
       "<div>\n",
       "<style scoped>\n",
       "    .dataframe tbody tr th:only-of-type {\n",
       "        vertical-align: middle;\n",
       "    }\n",
       "\n",
       "    .dataframe tbody tr th {\n",
       "        vertical-align: top;\n",
       "    }\n",
       "\n",
       "    .dataframe thead th {\n",
       "        text-align: right;\n",
       "    }\n",
       "</style>\n",
       "<table border=\"1\" class=\"dataframe\">\n",
       "  <thead>\n",
       "    <tr style=\"text-align: right;\">\n",
       "      <th></th>\n",
       "      <th>unique_identifier</th>\n",
       "      <th>usage</th>\n",
       "      <th>log_usage</th>\n",
       "      <th>status</th>\n",
       "    </tr>\n",
       "  </thead>\n",
       "  <tbody>\n",
       "    <tr>\n",
       "      <th>0</th>\n",
       "      <td>2ac7d64df7018a4137d7c5cf98c40061</td>\n",
       "      <td>6256.8</td>\n",
       "      <td>3.796352</td>\n",
       "      <td>ACTIVE</td>\n",
       "    </tr>\n",
       "    <tr>\n",
       "      <th>1</th>\n",
       "      <td>26fe8b75ad11c751336e76ef00aa9c29</td>\n",
       "      <td>8638.0</td>\n",
       "      <td>3.936413</td>\n",
       "      <td>FINALLED</td>\n",
       "    </tr>\n",
       "    <tr>\n",
       "      <th>2</th>\n",
       "      <td>26fe8b75ad11c751336e76ef00aa9c29</td>\n",
       "      <td>24173.0</td>\n",
       "      <td>4.383331</td>\n",
       "      <td>FINALLED</td>\n",
       "    </tr>\n",
       "    <tr>\n",
       "      <th>3</th>\n",
       "      <td>afcd5e3beba66fb8ca35625557de98af</td>\n",
       "      <td>11000.0</td>\n",
       "      <td>4.041393</td>\n",
       "      <td>FINALLED</td>\n",
       "    </tr>\n",
       "    <tr>\n",
       "      <th>4</th>\n",
       "      <td>e7df36f919ffd1d6ab666ac6edd995aa</td>\n",
       "      <td>12823.0</td>\n",
       "      <td>4.107990</td>\n",
       "      <td>FINALLED</td>\n",
       "    </tr>\n",
       "  </tbody>\n",
       "</table>\n",
       "</div>"
      ],
      "text/plain": [
       "                  unique_identifier    usage  log_usage    status\n",
       "0  2ac7d64df7018a4137d7c5cf98c40061   6256.8   3.796352    ACTIVE\n",
       "1  26fe8b75ad11c751336e76ef00aa9c29   8638.0   3.936413  FINALLED\n",
       "2  26fe8b75ad11c751336e76ef00aa9c29  24173.0   4.383331  FINALLED\n",
       "3  afcd5e3beba66fb8ca35625557de98af  11000.0   4.041393  FINALLED\n",
       "4  e7df36f919ffd1d6ab666ac6edd995aa  12823.0   4.107990  FINALLED"
      ]
     },
     "execution_count": 1,
     "metadata": {},
     "output_type": "execute_result"
    }
   ],
   "source": [
    "import pandas as pd\n",
    "import numpy as np\n",
    "\n",
    "data = pd.read_csv('Raw Data/usage_dataset_20230306.csv')\n",
    "data.head()"
   ]
  },
  {
   "cell_type": "code",
   "execution_count": null,
   "id": "60747d6d",
   "metadata": {},
   "outputs": [],
   "source": []
  }
 ],
 "metadata": {
  "kernelspec": {
   "display_name": "Python 3 (ipykernel)",
   "language": "python",
   "name": "python3"
  },
  "language_info": {
   "codemirror_mode": {
    "name": "ipython",
    "version": 3
   },
   "file_extension": ".py",
   "mimetype": "text/x-python",
   "name": "python",
   "nbconvert_exporter": "python",
   "pygments_lexer": "ipython3",
   "version": "3.9.13"
  }
 },
 "nbformat": 4,
 "nbformat_minor": 5
}
