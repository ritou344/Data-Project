{
 "cells": [
  {
   "cell_type": "code",
   "execution_count": 10,
   "metadata": {},
   "outputs": [],
   "source": [
    "import pandas as pd\n",
    "import numpy as np"
   ]
  },
  {
   "cell_type": "code",
   "execution_count": 11,
   "metadata": {},
   "outputs": [],
   "source": [
    "# Firmographic file\n",
    "df_firmographic = pd.read_csv(\"Raw Data/firmographic_append_data_20230306.csv\", low_memory=False)"
   ]
  },
  {
   "cell_type": "code",
   "execution_count": 12,
   "metadata": {},
   "outputs": [],
   "source": [
    "#Define function to clean zipcode\n",
    "def fix_zip(series):\n",
    "      return series.astype(str).str.extract('(\\d+)', expand=False).str.zfill(5)"
   ]
  },
  {
   "cell_type": "code",
   "execution_count": 13,
   "metadata": {},
   "outputs": [],
   "source": [
    "#Clean zipcode\n",
    "df_firmographic['B2B_ADDR_ZIP5'] = fix_zip(df_firmographic['B2B_ADDR_ZIP5'])\n"
   ]
  },
  {
   "cell_type": "code",
   "execution_count": 14,
   "metadata": {},
   "outputs": [],
   "source": [
    "#Format production date\n",
    "df_firmographic['B2B_PRODUCTION_DATE'] = pd.to_datetime(df_firmographic['B2B_PRODUCTION_DATE'], format='%m%d%Y')"
   ]
  },
  {
   "cell_type": "code",
   "execution_count": 15,
   "metadata": {},
   "outputs": [],
   "source": [
    "#Formate bankruptcy date\n",
    "df_firmographic['B2B_BANKRUPTCY_DATE'] = pd.to_datetime(df_firmographic['B2B_BANKRUPTCY_DATE'], format='%Y%m%d')"
   ]
  },
  {
   "cell_type": "code",
   "execution_count": 16,
   "metadata": {},
   "outputs": [],
   "source": [
    "#Export to csv\n",
    "df_firmographic.to_csv('Clean Data/firmographic_clean_20230317.csv', index = False)"
   ]
  }
 ],
 "metadata": {
  "kernelspec": {
   "display_name": "Python 3",
   "language": "python",
   "name": "python3"
  },
  "language_info": {
   "codemirror_mode": {
    "name": "ipython",
    "version": 3
   },
   "file_extension": ".py",
   "mimetype": "text/x-python",
   "name": "python",
   "nbconvert_exporter": "python",
   "pygments_lexer": "ipython3",
   "version": "3.11.2"
  },
  "orig_nbformat": 4
 },
 "nbformat": 4,
 "nbformat_minor": 2
}
