{
 "cells": [
  {
   "cell_type": "code",
   "execution_count": 1,
   "metadata": {},
   "outputs": [],
   "source": [
    "import pandas as pd\n",
    "import scipy.stats as stats\n",
    "import matplotlib.pyplot as plt\n",
    "%matplotlib inline\n",
    "import numpy as np\n",
    "import seaborn as sns\n",
    "from sklearn import metrics, preprocessing\n",
    "from datetime import datetime"
   ]
  },
  {
   "cell_type": "code",
   "execution_count": 2,
   "metadata": {},
   "outputs": [],
   "source": [
    "df_prep = pd.read_csv(\"Clean Data/ready_dataset_20230420.csv\", dtype={'B2B_ADDR_ZIP5':'str'})\n"
   ]
  },
  {
   "cell_type": "code",
   "execution_count": 3,
   "metadata": {},
   "outputs": [],
   "source": [
    "usage_conditions = [\n",
    "    (df_prep['usage'] <= 10000),\n",
    "    (df_prep['usage'] > 10000) & (df_prep['usage'] <= 25000),\n",
    "    (df_prep['usage'] > 25000) & (df_prep['usage'] <= 50000),\n",
    "    (df_prep['usage'] > 50000) & (df_prep['usage'] <= 125000),\n",
    "    (df_prep['usage'] > 125000)\n",
    "    ]\n",
    "replace_usage = ['5', '4', '3', '2', '1']"
   ]
  },
  {
   "cell_type": "code",
   "execution_count": 4,
   "metadata": {},
   "outputs": [],
   "source": [
    "df_prep['usage_range'] = np.select(usage_conditions, replace_usage)"
   ]
  },
  {
   "cell_type": "code",
   "execution_count": 5,
   "metadata": {},
   "outputs": [],
   "source": [
    "df_prep['B2B_PRODUCTION_DATE'] = pd.to_datetime(df_prep['B2B_PRODUCTION_DATE'], format = \"%Y/%m/%d\")"
   ]
  },
  {
   "cell_type": "code",
   "execution_count": 6,
   "metadata": {},
   "outputs": [],
   "source": [
    "df_prep['production_year'] = df_prep['B2B_PRODUCTION_DATE'].dt.year"
   ]
  },
  {
   "cell_type": "code",
   "execution_count": 92,
   "metadata": {},
   "outputs": [],
   "source": [
    "df_prep1 = df_prep[['unique_identifier',  'usage_range', 'B2B_ADDR_STATE', 'B2B_ACCOUNTING_EXPENSE_CODE',\n",
    "            'B2B_ADVERTISING_EXPENSE_CODE', 'B2B_BIG_BUSINESS_INDICATOR', 'B2B_BUSINESS_SQUARE_FOOT_NUM',\n",
    "            'B2B_COMPUTER_EXPENSE_CODE', 'B2B_CONTRACT_LABOR_EXPENSE_CODE', 'B2B_CREDIT_GRADE',\n",
    "            'B2B_EMPLOYEE_SIZE', 'B2B_EXPENSE_TYPE', 'B2B_HIGH_TECH_FLAG', 'B2B_INSURANCE_EXPENSE_CODE',\n",
    "            'B2B_LEGAL_EXPENSE_CODE', 'B2B_MEDIUM_SIZE_FLAG', 'B2B_MULTI_TENANT_DESCRIP',\n",
    "            'B2B_PAYROLL_EXPENSE_CODE', 'production_year', 'B2B_PURCHASE_ADMIN_EXPENSE_CODE',\n",
    "            'B2B_PURCHASE_PRINT_EXPENSE_CODE', 'B2B_REST_LEASE_EXPENSE_CODE', 'B2B_SALES_VOLUME',\n",
    "            'B2B_SMALL_SIZE_FLAG', 'B2B_TELECOMMUNICATIONS_CODE', 'B2B_TENANT_FLAG', 'B2B_UTILITY_CODE',\n",
    "            'B2B_WHITE_COLLAR_FLAG', 'CAC_SEGMENT', 'status']].copy()"
   ]
  },
  {
   "cell_type": "code",
   "execution_count": 93,
   "metadata": {},
   "outputs": [],
   "source": [
    "sqft_conditions = [(df_prep1['B2B_BUSINESS_SQUARE_FOOT_NUM'] == '1'), (df_prep1['B2B_BUSINESS_SQUARE_FOOT_NUM'] =='2' ),\n",
    "    (df_prep1['B2B_BUSINESS_SQUARE_FOOT_NUM'] == '3'), (df_prep1['B2B_BUSINESS_SQUARE_FOOT_NUM'] == '4'),\n",
    "    (df_prep1['B2B_BUSINESS_SQUARE_FOOT_NUM'] == '5'), (df_prep1['B2B_BUSINESS_SQUARE_FOOT_NUM'] == '6'),\n",
    "    (df_prep1['B2B_BUSINESS_SQUARE_FOOT_NUM'] == '7'), (df_prep1['B2B_BUSINESS_SQUARE_FOOT_NUM'] == '8'),\n",
    "    (df_prep1['B2B_BUSINESS_SQUARE_FOOT_NUM'] == 'A'), (df_prep1['B2B_BUSINESS_SQUARE_FOOT_NUM'] == 'B'),\n",
    "    (df_prep1['B2B_BUSINESS_SQUARE_FOOT_NUM'] == 'C'), (df_prep1['B2B_BUSINESS_SQUARE_FOOT_NUM'] == 'D'), \n",
    "    (df_prep1['B2B_BUSINESS_SQUARE_FOOT_NUM'] == 'X')]\n",
    "replace_sqft = ['A', 'A', 'B', 'B', 'C', 'C', 'D', 'D', 'A', 'B', 'C', 'D', 'X']"
   ]
  },
  {
   "cell_type": "code",
   "execution_count": 94,
   "metadata": {},
   "outputs": [],
   "source": [
    "df_prep1['B2B_BUSINESS_SQUARE_FOOT_NUM'] = np.select(sqft_conditions, replace_sqft)"
   ]
  },
  {
   "cell_type": "code",
   "execution_count": 95,
   "metadata": {},
   "outputs": [
    {
     "data": {
      "text/plain": [
       "A    22135\n",
       "B    14860\n",
       "C     5964\n",
       "X     3283\n",
       "D     3197\n",
       "Name: B2B_BUSINESS_SQUARE_FOOT_NUM, dtype: int64"
      ]
     },
     "execution_count": 95,
     "metadata": {},
     "output_type": "execute_result"
    }
   ],
   "source": [
    "df_prep1['B2B_BUSINESS_SQUARE_FOOT_NUM'].value_counts()"
   ]
  },
  {
   "cell_type": "code",
   "execution_count": 96,
   "metadata": {},
   "outputs": [],
   "source": [
    "le = preprocessing.LabelEncoder()\n",
    "df_prep1[['B2B_ADDR_STATE',\n",
    "       'B2B_ACCOUNTING_EXPENSE_CODE', 'B2B_ADVERTISING_EXPENSE_CODE',\n",
    "       'B2B_BIG_BUSINESS_INDICATOR', 'B2B_BUSINESS_SQUARE_FOOT_NUM',\n",
    "       'B2B_COMPUTER_EXPENSE_CODE', 'B2B_CONTRACT_LABOR_EXPENSE_CODE',\n",
    "       'B2B_CREDIT_GRADE', 'B2B_EMPLOYEE_SIZE', 'B2B_EXPENSE_TYPE',\n",
    "       'B2B_HIGH_TECH_FLAG', 'B2B_INSURANCE_EXPENSE_CODE',\n",
    "       'B2B_LEGAL_EXPENSE_CODE', 'B2B_MEDIUM_SIZE_FLAG',\n",
    "       'B2B_MULTI_TENANT_DESCRIP', 'B2B_PAYROLL_EXPENSE_CODE',\n",
    "       'production_year', 'B2B_PURCHASE_ADMIN_EXPENSE_CODE',\n",
    "       'B2B_PURCHASE_PRINT_EXPENSE_CODE', 'B2B_REST_LEASE_EXPENSE_CODE',\n",
    "       'B2B_SALES_VOLUME', 'B2B_SMALL_SIZE_FLAG',\n",
    "       'B2B_TELECOMMUNICATIONS_CODE', 'B2B_TENANT_FLAG', 'B2B_UTILITY_CODE',\n",
    "       'B2B_WHITE_COLLAR_FLAG', 'CAC_SEGMENT', 'status']] = df_prep1.iloc[:,2:].apply(le.fit_transform)"
   ]
  },
  {
   "cell_type": "code",
   "execution_count": null,
   "metadata": {},
   "outputs": [],
   "source": []
  },
  {
   "cell_type": "code",
   "execution_count": 68,
   "metadata": {},
   "outputs": [],
   "source": [
    "df_prep1.to_csv('Clean Data/prep_dataset_20230425.csv', index = False)"
   ]
  }
 ],
 "metadata": {
  "kernelspec": {
   "display_name": "Python 3",
   "language": "python",
   "name": "python3"
  },
  "language_info": {
   "codemirror_mode": {
    "name": "ipython",
    "version": 3
   },
   "file_extension": ".py",
   "mimetype": "text/x-python",
   "name": "python",
   "nbconvert_exporter": "python",
   "pygments_lexer": "ipython3",
   "version": "3.11.2"
  },
  "orig_nbformat": 4
 },
 "nbformat": 4,
 "nbformat_minor": 2
}
