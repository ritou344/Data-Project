{
 "cells": [
  {
   "cell_type": "code",
   "execution_count": 1,
   "metadata": {},
   "outputs": [],
   "source": [
    "import pandas as pd\n",
    "import numpy as np\n",
    "import seaborn as sns\n",
    "import matplotlib\n",
    "from matplotlib import pyplot as plt"
   ]
  },
  {
   "cell_type": "code",
   "execution_count": 2,
   "metadata": {},
   "outputs": [
    {
     "name": "stderr",
     "output_type": "stream",
     "text": [
      "/var/folders/74/hvvyjn317tj9gl3n3gpqs3fw0000gn/T/ipykernel_4551/1940750326.py:2: DtypeWarning: Columns (9) have mixed types. Specify dtype option on import or set low_memory=False.\n",
      "  df_firmographic = pd.read_csv(\"/Users/baodinhgiatran/Desktop/DATA 490/Raw Data/firmographic_append_data_20230306.csv\")\n"
     ]
    }
   ],
   "source": [
    "# Firmographic file\n",
    "df_firmographic = pd.read_csv(\"/Users/baodinhgiatran/Desktop/DATA 490/Raw Data/firmographic_append_data_20230306.csv\")"
   ]
  },
  {
   "cell_type": "code",
   "execution_count": 3,
   "metadata": {},
   "outputs": [],
   "source": [
    "# Usage file\n",
    "df_usage = pd.read_csv(\"/Users/baodinhgiatran/Desktop/DATA 490/Raw Data/usage_dataset_20230306.csv\")"
   ]
  },
  {
   "cell_type": "code",
   "execution_count": 4,
   "metadata": {},
   "outputs": [],
   "source": [
    "#test join\n",
    "\n",
    "df_firmographic_join = df_firmographic[['unique_identifier','B2B_ADDR_ZIP5']].copy()"
   ]
  },
  {
   "cell_type": "code",
   "execution_count": 5,
   "metadata": {},
   "outputs": [],
   "source": [
    "df_usage_join = df_usage.groupby([\"unique_identifier\"]).agg({ 'usage':'sum'})"
   ]
  },
  {
   "cell_type": "code",
   "execution_count": 6,
   "metadata": {},
   "outputs": [
    {
     "name": "stdout",
     "output_type": "stream",
     "text": [
      "                      unique_identifier  B2B_ADDR_ZIP5    usage\n",
      "0      0001230a214b39e0e5c463bfe440fb15        44240.0  81440.0\n",
      "1      000345e997e72b61b990d2689c76427f        15218.0    556.3\n",
      "2      0003c4d7aeb24f319f0d7c6ddb60bb8f        44067.0  32564.0\n",
      "3      00082675e86a9f3cf5fdcc5d4cd9114d        60618.0   5519.0\n",
      "4      00095201031df44962513f378842d521        61111.0   5946.0\n",
      "...                                 ...            ...      ...\n",
      "59881  fffce8918ebaae88423f62806f22c414         2026.0  11080.0\n",
      "59882  fffd155082881fa090b08ca6ceed7005        78503.0  93876.0\n",
      "59883  fffe3fcb6ca0166ec15af3958ac145e8         2453.0   9072.0\n",
      "59884  fffef4c75ffee0863657cb631c4245cf         7945.0      NaN\n",
      "59885  fffffb3ada2f6e1000a34c41725268ff        60035.0  20892.0\n",
      "\n",
      "[59886 rows x 3 columns]\n"
     ]
    }
   ],
   "source": [
    "df = df_firmographic_join.merge(df_usage_join, on='unique_identifier', how='left')\n",
    "print(df)"
   ]
  },
  {
   "cell_type": "code",
   "execution_count": 7,
   "metadata": {},
   "outputs": [
    {
     "data": {
      "text/html": [
       "<div>\n",
       "<style scoped>\n",
       "    .dataframe tbody tr th:only-of-type {\n",
       "        vertical-align: middle;\n",
       "    }\n",
       "\n",
       "    .dataframe tbody tr th {\n",
       "        vertical-align: top;\n",
       "    }\n",
       "\n",
       "    .dataframe thead th {\n",
       "        text-align: right;\n",
       "    }\n",
       "</style>\n",
       "<table border=\"1\" class=\"dataframe\">\n",
       "  <thead>\n",
       "    <tr style=\"text-align: right;\">\n",
       "      <th></th>\n",
       "      <th>unique_identifier</th>\n",
       "      <th>B2B_ADDR_ZIP5</th>\n",
       "      <th>usage</th>\n",
       "    </tr>\n",
       "  </thead>\n",
       "  <tbody>\n",
       "    <tr>\n",
       "      <th>0</th>\n",
       "      <td>0001230a214b39e0e5c463bfe440fb15</td>\n",
       "      <td>44240.0</td>\n",
       "      <td>81440.0</td>\n",
       "    </tr>\n",
       "    <tr>\n",
       "      <th>1</th>\n",
       "      <td>000345e997e72b61b990d2689c76427f</td>\n",
       "      <td>15218.0</td>\n",
       "      <td>556.3</td>\n",
       "    </tr>\n",
       "    <tr>\n",
       "      <th>2</th>\n",
       "      <td>0003c4d7aeb24f319f0d7c6ddb60bb8f</td>\n",
       "      <td>44067.0</td>\n",
       "      <td>32564.0</td>\n",
       "    </tr>\n",
       "    <tr>\n",
       "      <th>3</th>\n",
       "      <td>00082675e86a9f3cf5fdcc5d4cd9114d</td>\n",
       "      <td>60618.0</td>\n",
       "      <td>5519.0</td>\n",
       "    </tr>\n",
       "    <tr>\n",
       "      <th>4</th>\n",
       "      <td>00095201031df44962513f378842d521</td>\n",
       "      <td>61111.0</td>\n",
       "      <td>5946.0</td>\n",
       "    </tr>\n",
       "    <tr>\n",
       "      <th>...</th>\n",
       "      <td>...</td>\n",
       "      <td>...</td>\n",
       "      <td>...</td>\n",
       "    </tr>\n",
       "    <tr>\n",
       "      <th>59879</th>\n",
       "      <td>fff7c0d1b2f896b1018ef67a9d286361</td>\n",
       "      <td>2472.0</td>\n",
       "      <td>11980.0</td>\n",
       "    </tr>\n",
       "    <tr>\n",
       "      <th>59881</th>\n",
       "      <td>fffce8918ebaae88423f62806f22c414</td>\n",
       "      <td>2026.0</td>\n",
       "      <td>11080.0</td>\n",
       "    </tr>\n",
       "    <tr>\n",
       "      <th>59882</th>\n",
       "      <td>fffd155082881fa090b08ca6ceed7005</td>\n",
       "      <td>78503.0</td>\n",
       "      <td>93876.0</td>\n",
       "    </tr>\n",
       "    <tr>\n",
       "      <th>59883</th>\n",
       "      <td>fffe3fcb6ca0166ec15af3958ac145e8</td>\n",
       "      <td>2453.0</td>\n",
       "      <td>9072.0</td>\n",
       "    </tr>\n",
       "    <tr>\n",
       "      <th>59885</th>\n",
       "      <td>fffffb3ada2f6e1000a34c41725268ff</td>\n",
       "      <td>60035.0</td>\n",
       "      <td>20892.0</td>\n",
       "    </tr>\n",
       "  </tbody>\n",
       "</table>\n",
       "<p>50885 rows × 3 columns</p>\n",
       "</div>"
      ],
      "text/plain": [
       "                      unique_identifier  B2B_ADDR_ZIP5    usage\n",
       "0      0001230a214b39e0e5c463bfe440fb15        44240.0  81440.0\n",
       "1      000345e997e72b61b990d2689c76427f        15218.0    556.3\n",
       "2      0003c4d7aeb24f319f0d7c6ddb60bb8f        44067.0  32564.0\n",
       "3      00082675e86a9f3cf5fdcc5d4cd9114d        60618.0   5519.0\n",
       "4      00095201031df44962513f378842d521        61111.0   5946.0\n",
       "...                                 ...            ...      ...\n",
       "59879  fff7c0d1b2f896b1018ef67a9d286361         2472.0  11980.0\n",
       "59881  fffce8918ebaae88423f62806f22c414         2026.0  11080.0\n",
       "59882  fffd155082881fa090b08ca6ceed7005        78503.0  93876.0\n",
       "59883  fffe3fcb6ca0166ec15af3958ac145e8         2453.0   9072.0\n",
       "59885  fffffb3ada2f6e1000a34c41725268ff        60035.0  20892.0\n",
       "\n",
       "[50885 rows x 3 columns]"
      ]
     },
     "execution_count": 7,
     "metadata": {},
     "output_type": "execute_result"
    }
   ],
   "source": [
    "df.dropna()"
   ]
  }
 ],
 "metadata": {
  "kernelspec": {
   "display_name": "Python 3",
   "language": "python",
   "name": "python3"
  },
  "language_info": {
   "codemirror_mode": {
    "name": "ipython",
    "version": 3
   },
   "file_extension": ".py",
   "mimetype": "text/x-python",
   "name": "python",
   "nbconvert_exporter": "python",
   "pygments_lexer": "ipython3",
   "version": "3.11.2"
  },
  "orig_nbformat": 4
 },
 "nbformat": 4,
 "nbformat_minor": 2
}
