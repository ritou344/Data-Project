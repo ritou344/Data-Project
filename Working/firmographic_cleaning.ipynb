{
 "cells": [
  {
   "cell_type": "code",
   "execution_count": 1,
   "metadata": {},
   "outputs": [],
   "source": [
    "import pandas as pd\n",
    "import numpy as np"
   ]
  },
  {
   "cell_type": "code",
   "execution_count": 2,
   "metadata": {},
   "outputs": [],
   "source": [
    "# Firmographic file\n",
    "df_firmographic = pd.read_csv(\"/Users/baodinhgiatran/Desktop/DATA 490/Raw Data/firmographic_append_data_20230306.csv\", low_memory=False)"
   ]
  },
  {
   "cell_type": "code",
   "execution_count": 3,
   "metadata": {},
   "outputs": [],
   "source": [
    "#Format production date\n",
    "df_firmographic['B2B_PRODUCTION_DATE'] = pd.to_datetime(df_firmographic['B2B_PRODUCTION_DATE'], format='%m%d%Y')"
   ]
  },
  {
   "cell_type": "code",
   "execution_count": 4,
   "metadata": {},
   "outputs": [],
   "source": [
    "#Formate bankruptcy date\n",
    "df_firmographic['B2B_BANKRUPTCY_DATE'] = pd.to_datetime(df_firmographic['B2B_BANKRUPTCY_DATE'], format='%Y%m%d')"
   ]
  },
  {
   "cell_type": "code",
   "execution_count": 5,
   "metadata": {},
   "outputs": [],
   "source": [
    "#Export to csv\n",
    "df_firmographic.to_csv('firmographic_clean_20230314.csv', index = False)"
   ]
  }
 ],
 "metadata": {
  "kernelspec": {
   "display_name": "Python 3",
   "language": "python",
   "name": "python3"
  },
  "language_info": {
   "codemirror_mode": {
    "name": "ipython",
    "version": 3
   },
   "file_extension": ".py",
   "mimetype": "text/x-python",
   "name": "python",
   "nbconvert_exporter": "python",
   "pygments_lexer": "ipython3",
   "version": "3.11.2"
  },
  "orig_nbformat": 4
 },
 "nbformat": 4,
 "nbformat_minor": 2
}
