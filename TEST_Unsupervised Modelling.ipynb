{
 "cells": [
  {
   "cell_type": "markdown",
   "id": "7ff57c25",
   "metadata": {},
   "source": [
    "# Unsupervised Modelling"
   ]
  },
  {
   "cell_type": "markdown",
   "id": "8e46b3bf",
   "metadata": {},
   "source": [
    "---\n",
    "### <i>Changelogs:</i>\n",
    "\n",
    "  Name  |  Date  |   Description\n",
    "- **Bao Tran**  |  03/17  |  Create notebook, clean data in firmographic dataset.Reorganize folder and files.\n",
    "- **Kiet Vu**  |  03/17  | Minor Editing.\n",
    "---"
   ]
  },
  {
   "cell_type": "markdown",
   "id": "b3ea8f57",
   "metadata": {},
   "source": [
    "- **Clustering**: \n",
    "Clustering is an unsupervised learning method that groups similar data points together based on the categorical attributes. There are several clustering algorithms available, including k-means, hierarchical clustering, and DBSCAN.\n",
    "\n",
    "- **Principal Component Analysis (PCA)**: \n",
    "PCA is a dimensionality reduction technique that can be used to identify the underlying patterns in the categorical data. PCA transforms the categorical attributes into a lower-dimensional space, where the new dimensions are orthogonal and capture the most variance in the data.\n",
    "\n",
    "- **Association Rule Mining**: \n",
    "Association rule mining is a technique used to discover frequent co-occurrences or correlations between categorical attributes. It can be used to identify relationships between different attributes and discover interesting patterns in the data.\n",
    "\n",
    "- **Self-Organizing Maps (SOMs)**: \n",
    "SOMs are a type of artificial neural network that can be used for clustering and visualization of high-dimensional data. SOMs are useful for discovering hidden structures and patterns in the data.\n",
    "\n",
    "**it's important to note that unsupervised learning methods cannot make predictions on new data, as they do not have a target variable to train on. Instead, they can be used for exploratory analysis and to gain insights into the data.**\n",
    "\n",
    "---"
   ]
  },
  {
   "cell_type": "code",
   "execution_count": null,
   "id": "eedfbd40",
   "metadata": {},
   "outputs": [],
   "source": [
    "import pandas as pd\n",
    "import scipy.stats as stats\n",
    "import matplotlib.pyplot as plt\n",
    "%matplotlib inline\n",
    "import numpy as np\n",
    "import seaborn as sns\n",
    "from sklearn.cluster import DBSCAN\n",
    "from sklearn import metrics\n",
    "from sklearn.neighbors import NearestNeighbors\n",
    "from sklearn.metrics import silhouette_score"
   ]
  },
  {
   "cell_type": "code",
   "execution_count": null,
   "id": "3c07ddd0",
   "metadata": {},
   "outputs": [],
   "source": [
    "df_firmographic = pd.read_csv(\"Raw Data/firmographic_append_data_20230306.csv\", low_memory=False)\n",
    "df_firmographic.head(15)"
   ]
  }
 ],
 "metadata": {
  "kernelspec": {
   "display_name": "Python 3 (ipykernel)",
   "language": "python",
   "name": "python3"
  },
  "language_info": {
   "codemirror_mode": {
    "name": "ipython",
    "version": 3
   },
   "file_extension": ".py",
   "mimetype": "text/x-python",
   "name": "python",
   "nbconvert_exporter": "python",
   "pygments_lexer": "ipython3",
   "version": "3.9.7"
  }
 },
 "nbformat": 4,
 "nbformat_minor": 5
}
