{
 "cells": [
  {
   "cell_type": "code",
   "execution_count": 1,
   "metadata": {},
   "outputs": [],
   "source": [
    "import pandas as pd\n",
    "import numpy as np\n",
    "import seaborn as sns\n",
    "import matplotlib\n",
    "from matplotlib import pyplot as plt"
   ]
  },
  {
   "cell_type": "code",
   "execution_count": 2,
   "metadata": {},
   "outputs": [
    {
     "name": "stderr",
     "output_type": "stream",
     "text": [
      "/var/folders/74/hvvyjn317tj9gl3n3gpqs3fw0000gn/T/ipykernel_22592/3729650555.py:2: DtypeWarning: Columns (9) have mixed types. Specify dtype option on import or set low_memory=False.\n",
      "  df_firmographic = pd.read_csv(\"Clean Data/firmographic_clean_20230323.csv\", dtype={'B2B_ADDR_ZIP5':'str'})\n"
     ]
    }
   ],
   "source": [
    "# Firmographic file\n",
    "df_firmographic = pd.read_csv(\"Clean Data/firmographic_clean_20230323.csv\", dtype={'B2B_ADDR_ZIP5':'str'})"
   ]
  },
  {
   "cell_type": "code",
   "execution_count": 3,
   "metadata": {},
   "outputs": [],
   "source": [
    "# Usage file\n",
    "df_usage = pd.read_csv(\"Clean Data/usage_clean_20230420.csv\")"
   ]
  },
  {
   "cell_type": "code",
   "execution_count": 4,
   "metadata": {},
   "outputs": [],
   "source": [
    "#Join 2 files\n",
    "df = df_firmographic.merge(df_usage, on='unique_identifier', how='right')"
   ]
  },
  {
   "cell_type": "code",
   "execution_count": 5,
   "metadata": {},
   "outputs": [],
   "source": [
    "#Drop NA state\n",
    "df = df.dropna(subset=['B2B_ADDR_STATE'])"
   ]
  },
  {
   "cell_type": "code",
   "execution_count": 6,
   "metadata": {},
   "outputs": [],
   "source": [
    "#Drop low states\n",
    "US_state = df['B2B_ADDR_STATE'].unique()\n",
    "US_state = list(US_state)\n",
    "remove_state = ['CA', 'DE', 'GA','IN','KY','ME','MI','RI','VA', 'DC', 'NH']\n",
    "state = [i for i in US_state if i not in remove_state]"
   ]
  },
  {
   "cell_type": "code",
   "execution_count": 7,
   "metadata": {},
   "outputs": [],
   "source": [
    "#Filtered dataframe\n",
    "df_join= df.loc[df['B2B_ADDR_STATE'].isin(state)]"
   ]
  },
  {
   "cell_type": "code",
   "execution_count": 8,
   "metadata": {},
   "outputs": [],
   "source": [
    "#Remove bankruptcy\n",
    "df_bankrupt = df_join[['unique_identifier', 'B2B_BANKRUPTCY_FLAG']].copy()\n",
    "df_bankrupt = df_bankrupt.dropna()\n",
    "bankrupt_list = df_bankrupt['unique_identifier'].values.tolist()\n",
    "df_no_bankrupt = df_join[~df_join['unique_identifier'].isin(bankrupt_list)]"
   ]
  },
  {
   "cell_type": "code",
   "execution_count": 9,
   "metadata": {},
   "outputs": [],
   "source": [
    "#Define function to find missing values for each column\n",
    "def missing_values_table(df):\n",
    "    mis_val = df.isnull().sum()\n",
    "    mis_val_percent = 100 * df.isnull().sum() / len(df)\n",
    "    mis_val_table = pd.concat([mis_val, mis_val_percent], axis=1)\n",
    "    mis_val_table_ren_columns = mis_val_table.rename(\n",
    "    columns = {0 : 'Missing Values', 1 : '% of Total Values'})\n",
    "    mis_val_table_ren_columns = mis_val_table_ren_columns[\n",
    "        mis_val_table_ren_columns.iloc[:,1] != 0].sort_values(\n",
    "    '% of Total Values', ascending=False).round(1)\n",
    "    if str(mis_val_table_ren_columns.shape[0]) == '1':\n",
    "        print (\"Your selected dataframe has \" + str(df.shape[1]) + \" columns.\\n\"      \n",
    "            \"There is \" + str(mis_val_table_ren_columns.shape[0]) +\n",
    "            \" column that have missing values.\")\n",
    "    else:\n",
    "        print (\"Your selected dataframe has \" + str(df.shape[1]) + \" columns.\\n\"      \n",
    "            \"There are \" + str(mis_val_table_ren_columns.shape[0]) +\n",
    "            \" columns that have missing values.\")\n",
    "    return mis_val_table_ren_columns"
   ]
  },
  {
   "cell_type": "code",
   "execution_count": 10,
   "metadata": {},
   "outputs": [
    {
     "name": "stdout",
     "output_type": "stream",
     "text": [
      "Your selected dataframe has 103 columns.\n",
      "There are 75 columns that have missing values.\n"
     ]
    },
    {
     "data": {
      "text/html": [
       "<div>\n",
       "<style scoped>\n",
       "    .dataframe tbody tr th:only-of-type {\n",
       "        vertical-align: middle;\n",
       "    }\n",
       "\n",
       "    .dataframe tbody tr th {\n",
       "        vertical-align: top;\n",
       "    }\n",
       "\n",
       "    .dataframe thead th {\n",
       "        text-align: right;\n",
       "    }\n",
       "</style>\n",
       "<table border=\"1\" class=\"dataframe\">\n",
       "  <thead>\n",
       "    <tr style=\"text-align: right;\">\n",
       "      <th></th>\n",
       "      <th>Missing Values</th>\n",
       "      <th>% of Total Values</th>\n",
       "    </tr>\n",
       "  </thead>\n",
       "  <tbody>\n",
       "    <tr>\n",
       "      <th>B2B_BANKRUPTCY_DATE</th>\n",
       "      <td>49439</td>\n",
       "      <td>100.0</td>\n",
       "    </tr>\n",
       "    <tr>\n",
       "      <th>B2B_BANKRUPTCY_FLAG</th>\n",
       "      <td>49439</td>\n",
       "      <td>100.0</td>\n",
       "    </tr>\n",
       "    <tr>\n",
       "      <th>B2B_FORTUNE_RANK</th>\n",
       "      <td>49436</td>\n",
       "      <td>100.0</td>\n",
       "    </tr>\n",
       "    <tr>\n",
       "      <th>B2B_FOREIGN_PARENT_FLAG</th>\n",
       "      <td>49432</td>\n",
       "      <td>100.0</td>\n",
       "    </tr>\n",
       "    <tr>\n",
       "      <th>B2B_IMPORT_EXPORT_FLAG</th>\n",
       "      <td>49231</td>\n",
       "      <td>99.6</td>\n",
       "    </tr>\n",
       "    <tr>\n",
       "      <th>...</th>\n",
       "      <td>...</td>\n",
       "      <td>...</td>\n",
       "    </tr>\n",
       "    <tr>\n",
       "      <th>B2B_CREDIT_YEAR</th>\n",
       "      <td>23</td>\n",
       "      <td>0.0</td>\n",
       "    </tr>\n",
       "    <tr>\n",
       "      <th>B2B_CREDIT_GRADE</th>\n",
       "      <td>12</td>\n",
       "      <td>0.0</td>\n",
       "    </tr>\n",
       "    <tr>\n",
       "      <th>B2B_NAICS_CODE</th>\n",
       "      <td>1</td>\n",
       "      <td>0.0</td>\n",
       "    </tr>\n",
       "    <tr>\n",
       "      <th>B2B_NAICS_CODE_DESCRIP</th>\n",
       "      <td>1</td>\n",
       "      <td>0.0</td>\n",
       "    </tr>\n",
       "    <tr>\n",
       "      <th>B2B_YEAR_SIC_ADD</th>\n",
       "      <td>1</td>\n",
       "      <td>0.0</td>\n",
       "    </tr>\n",
       "  </tbody>\n",
       "</table>\n",
       "<p>75 rows × 2 columns</p>\n",
       "</div>"
      ],
      "text/plain": [
       "                         Missing Values  % of Total Values\n",
       "B2B_BANKRUPTCY_DATE               49439              100.0\n",
       "B2B_BANKRUPTCY_FLAG               49439              100.0\n",
       "B2B_FORTUNE_RANK                  49436              100.0\n",
       "B2B_FOREIGN_PARENT_FLAG           49432              100.0\n",
       "B2B_IMPORT_EXPORT_FLAG            49231               99.6\n",
       "...                                 ...                ...\n",
       "B2B_CREDIT_YEAR                      23                0.0\n",
       "B2B_CREDIT_GRADE                     12                0.0\n",
       "B2B_NAICS_CODE                        1                0.0\n",
       "B2B_NAICS_CODE_DESCRIP                1                0.0\n",
       "B2B_YEAR_SIC_ADD                      1                0.0\n",
       "\n",
       "[75 rows x 2 columns]"
      ]
     },
     "execution_count": 10,
     "metadata": {},
     "output_type": "execute_result"
    }
   ],
   "source": [
    "# Return the columns' names and the number of missing values\n",
    "missing_values_table(df_no_bankrupt)"
   ]
  },
  {
   "cell_type": "code",
   "execution_count": 11,
   "metadata": {},
   "outputs": [
    {
     "name": "stdout",
     "output_type": "stream",
     "text": [
      "Your selected dataframe has 103 columns.\n",
      "There are 75 columns that have missing values.\n",
      "We will remove 35 columns.\n"
     ]
    }
   ],
   "source": [
    "# Get the columns with > 80% missing\n",
    "missing_df = missing_values_table(df_no_bankrupt);\n",
    "missing_columns = list(missing_df[missing_df['% of Total Values'] > 80].index)\n",
    "if len(missing_columns) == 1: \n",
    "  print('We will remove %d column.' % len(missing_columns))\n",
    "else:\n",
    "  print('We will remove %d columns.' % len(missing_columns))\n",
    "df_firmographic_dropped = df_firmographic.drop(list(missing_columns), axis = 1)"
   ]
  },
  {
   "cell_type": "code",
   "execution_count": 12,
   "metadata": {},
   "outputs": [],
   "source": [
    "#Export to csv\n",
    "df_no_bankrupt.to_csv('Clean Data/ready_dataset_20230420.csv', index = False)"
   ]
  }
 ],
 "metadata": {
  "kernelspec": {
   "display_name": "Python 3",
   "language": "python",
   "name": "python3"
  },
  "language_info": {
   "codemirror_mode": {
    "name": "ipython",
    "version": 3
   },
   "file_extension": ".py",
   "mimetype": "text/x-python",
   "name": "python",
   "nbconvert_exporter": "python",
   "pygments_lexer": "ipython3",
   "version": "3.11.2"
  },
  "orig_nbformat": 4,
  "vscode": {
   "interpreter": {
    "hash": "aee8b7b246df8f9039afb4144a1f6fd8d2ca17a180786b69acc140d282b71a49"
   }
  }
 },
 "nbformat": 4,
 "nbformat_minor": 2
}
