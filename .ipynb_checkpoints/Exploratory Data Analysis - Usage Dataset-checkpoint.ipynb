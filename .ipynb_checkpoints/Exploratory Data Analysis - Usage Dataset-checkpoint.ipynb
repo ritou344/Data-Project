{
 "cells": [
  {
   "cell_type": "markdown",
   "id": "de00575f",
   "metadata": {},
   "source": [
    "### Change logs:\n",
    "(State things that you have edited here)\n",
    "\n",
    "Name - MM/DD - Things you did."
   ]
  },
  {
   "cell_type": "markdown",
   "id": "719feba0",
   "metadata": {},
   "source": [
    "## Table of Contents\n",
    "**Each phase of the process:**\n",
    "1. [Business understanding](#Businessunderstanding)\n",
    "    1. [Assess the Current Situation](#Assessthecurrentsituation)\n",
    "        1. [Inventory of resources](#Inventory)\n",
    "        2. [Requirements, assumptions and constraints](#Requirements)\n",
    "        3. [Risks and contingencies](#Risks)\n",
    "        4. [Terminology](#Terminology)\n",
    "        5. [Costs and benefits](#CostBenefit)\n",
    "    2. [What are the Desired Outputs](#Desiredoutputs)\n",
    "    3. [What Questions Are We Trying to Answer?](#QA)\n",
    "2. [Data Understanding](#Dataunderstanding)\n",
    "    1. [Initial Data Report](#Datareport)\n",
    "    2. [Describe Data](#Describedata)  \n",
    "    3. [Verify Data Quality](#Verifydataquality)\n",
    "        1. [Missing Data](#MissingData) \n",
    "        2. [Outliers](#Outliers)\n",
    "    4. [Initial Data Exploration](#Exploredata)\n",
    "    5. [Data Quality Report](#Dataqualityreport)\n",
    "3. [Data Preparation](#Datapreparation)\n",
    "    1. [Select Your Data](#Selectyourdata)\n",
    "    2. [Cleanse the Data](#Cleansethedata)\n",
    "        1. [Label Encoding](#labelEncoding)\n",
    "        2. [Drop Unnecessary Columns](#DropCols)\n",
    "        3. [Altering Data Types](#AlteringDatatypes)\n",
    "        4. [Dealing With Zeros](#DealingZeros)\n",
    "        5. [Dealing With Duplicates](#DealingDuplicates)\n",
    "        4. [Remove Outliers](#RemoveOutliers)\n",
    "    3. [Construct Required Data](#Constructrequireddata)\n",
    "    4. [Integrate Data](#Integratedata)\n",
    "4. [Exploratory Data Analysis](#EDA)\n",
    "5. [Modelling](#Modelling)\n",
    "6. [Evaluation](#Evaluation)\n",
    "7. [Deployment](#Deployment)\n",
    "\n",
    "If you want to learn more about CRISP-DM, please refer to this link: https://www.sv-europe.com/crisp-dm-methodology/"
   ]
  },
  {
   "cell_type": "code",
   "execution_count": 1,
   "id": "1e992bd7",
   "metadata": {},
   "outputs": [
    {
     "name": "stdout",
     "output_type": "stream",
     "text": [
      "Requirement already satisfied: geopandas in c:\\users\\predator\\anaconda3\\lib\\site-packages (0.12.2)\n",
      "Requirement already satisfied: pyproj>=2.6.1.post1 in c:\\users\\predator\\anaconda3\\lib\\site-packages (from geopandas) (3.4.1)\n",
      "Requirement already satisfied: fiona>=1.8 in c:\\users\\predator\\anaconda3\\lib\\site-packages (from geopandas) (1.8.22)\n",
      "Requirement already satisfied: packaging in c:\\users\\predator\\anaconda3\\lib\\site-packages (from geopandas) (21.0)\n",
      "Requirement already satisfied: pandas>=1.0.0 in c:\\users\\predator\\anaconda3\\lib\\site-packages (from geopandas) (1.3.4)\n",
      "Requirement already satisfied: shapely>=1.7 in c:\\users\\predator\\anaconda3\\lib\\site-packages (from geopandas) (2.0.0)\n",
      "Requirement already satisfied: click-plugins>=1.0 in c:\\users\\predator\\anaconda3\\lib\\site-packages (from fiona>=1.8->geopandas) (1.1.1)\n",
      "Requirement already satisfied: attrs>=17 in c:\\users\\predator\\anaconda3\\lib\\site-packages (from fiona>=1.8->geopandas) (21.2.0)\n",
      "Requirement already satisfied: cligj>=0.5 in c:\\users\\predator\\anaconda3\\lib\\site-packages (from fiona>=1.8->geopandas) (0.7.2)\n",
      "Requirement already satisfied: certifi in c:\\users\\predator\\anaconda3\\lib\\site-packages (from fiona>=1.8->geopandas) (2021.10.8)\n",
      "Requirement already satisfied: setuptools in c:\\users\\predator\\anaconda3\\lib\\site-packages (from fiona>=1.8->geopandas) (58.0.4)\n",
      "Requirement already satisfied: munch in c:\\users\\predator\\anaconda3\\lib\\site-packages (from fiona>=1.8->geopandas) (2.5.0)\n",
      "Requirement already satisfied: click>=4.0 in c:\\users\\predator\\anaconda3\\lib\\site-packages (from fiona>=1.8->geopandas) (8.0.3)\n",
      "Requirement already satisfied: six>=1.7 in c:\\users\\predator\\appdata\\roaming\\python\\python39\\site-packages (from fiona>=1.8->geopandas) (1.15.0)\n",
      "Requirement already satisfied: colorama in c:\\users\\predator\\appdata\\roaming\\python\\python39\\site-packages (from click>=4.0->fiona>=1.8->geopandas) (0.4.4)\n",
      "Requirement already satisfied: pytz>=2017.3 in c:\\users\\predator\\anaconda3\\lib\\site-packages (from pandas>=1.0.0->geopandas) (2022.7.1)\n",
      "Requirement already satisfied: numpy>=1.17.3 in c:\\users\\predator\\anaconda3\\lib\\site-packages (from pandas>=1.0.0->geopandas) (1.20.3)\n",
      "Requirement already satisfied: python-dateutil>=2.7.3 in c:\\users\\predator\\anaconda3\\lib\\site-packages (from pandas>=1.0.0->geopandas) (2.8.2)\n",
      "Requirement already satisfied: pyparsing>=2.0.2 in c:\\users\\predator\\anaconda3\\lib\\site-packages (from packaging->geopandas) (3.0.4)\n"
     ]
    }
   ],
   "source": [
    "# Import Libraries Required\n",
    "import pandas as pd\n",
    "import matplotlib.pyplot as plt\n",
    "%matplotlib inline\n",
    "import numpy as np\n",
    "import seaborn as sns\n",
    "import folium\n",
    "from folium import plugins\n",
    "!pip install --upgrade geopandas\n",
    "import geopandas"
   ]
  },
  {
   "cell_type": "code",
   "execution_count": 2,
   "id": "59b55b2d",
   "metadata": {},
   "outputs": [
    {
     "data": {
      "text/html": [
       "<div>\n",
       "<style scoped>\n",
       "    .dataframe tbody tr th:only-of-type {\n",
       "        vertical-align: middle;\n",
       "    }\n",
       "\n",
       "    .dataframe tbody tr th {\n",
       "        vertical-align: top;\n",
       "    }\n",
       "\n",
       "    .dataframe thead th {\n",
       "        text-align: right;\n",
       "    }\n",
       "</style>\n",
       "<table border=\"1\" class=\"dataframe\">\n",
       "  <thead>\n",
       "    <tr style=\"text-align: right;\">\n",
       "      <th></th>\n",
       "      <th>unique_identifier</th>\n",
       "      <th>usage</th>\n",
       "      <th>log_usage</th>\n",
       "      <th>status</th>\n",
       "    </tr>\n",
       "  </thead>\n",
       "  <tbody>\n",
       "    <tr>\n",
       "      <th>0</th>\n",
       "      <td>2ac7d64df7018a4137d7c5cf98c40061</td>\n",
       "      <td>6256.8</td>\n",
       "      <td>3.796352</td>\n",
       "      <td>ACTIVE</td>\n",
       "    </tr>\n",
       "    <tr>\n",
       "      <th>1</th>\n",
       "      <td>26fe8b75ad11c751336e76ef00aa9c29</td>\n",
       "      <td>8638.0</td>\n",
       "      <td>3.936413</td>\n",
       "      <td>FINALLED</td>\n",
       "    </tr>\n",
       "    <tr>\n",
       "      <th>2</th>\n",
       "      <td>26fe8b75ad11c751336e76ef00aa9c29</td>\n",
       "      <td>24173.0</td>\n",
       "      <td>4.383331</td>\n",
       "      <td>FINALLED</td>\n",
       "    </tr>\n",
       "    <tr>\n",
       "      <th>3</th>\n",
       "      <td>afcd5e3beba66fb8ca35625557de98af</td>\n",
       "      <td>11000.0</td>\n",
       "      <td>4.041393</td>\n",
       "      <td>FINALLED</td>\n",
       "    </tr>\n",
       "    <tr>\n",
       "      <th>4</th>\n",
       "      <td>e7df36f919ffd1d6ab666ac6edd995aa</td>\n",
       "      <td>12823.0</td>\n",
       "      <td>4.107990</td>\n",
       "      <td>FINALLED</td>\n",
       "    </tr>\n",
       "  </tbody>\n",
       "</table>\n",
       "</div>"
      ],
      "text/plain": [
       "                  unique_identifier    usage  log_usage    status\n",
       "0  2ac7d64df7018a4137d7c5cf98c40061   6256.8   3.796352    ACTIVE\n",
       "1  26fe8b75ad11c751336e76ef00aa9c29   8638.0   3.936413  FINALLED\n",
       "2  26fe8b75ad11c751336e76ef00aa9c29  24173.0   4.383331  FINALLED\n",
       "3  afcd5e3beba66fb8ca35625557de98af  11000.0   4.041393  FINALLED\n",
       "4  e7df36f919ffd1d6ab666ac6edd995aa  12823.0   4.107990  FINALLED"
      ]
     },
     "execution_count": 2,
     "metadata": {},
     "output_type": "execute_result"
    }
   ],
   "source": [
    "# Import the orginal dataset\n",
    "accident_data = pd.read_csv('Raw Data/usage_dataset_20230306.csv',encoding_errors='ignore')\n",
    "\n",
    "# first 5 records\n",
    "accident_data.head(5)"
   ]
  },
  {
   "cell_type": "markdown",
   "id": "6888950f",
   "metadata": {},
   "source": [
    "2.2 Describe Data <a class=\"anchor\" id=\"Describedata\"></a>"
   ]
  },
  {
   "cell_type": "code",
   "execution_count": null,
   "id": "2150104c",
   "metadata": {},
   "outputs": [],
   "source": []
  }
 ],
 "metadata": {
  "kernelspec": {
   "display_name": "Python 3 (ipykernel)",
   "language": "python",
   "name": "python3"
  },
  "language_info": {
   "codemirror_mode": {
    "name": "ipython",
    "version": 3
   },
   "file_extension": ".py",
   "mimetype": "text/x-python",
   "name": "python",
   "nbconvert_exporter": "python",
   "pygments_lexer": "ipython3",
   "version": "3.9.7"
  }
 },
 "nbformat": 4,
 "nbformat_minor": 5
}
