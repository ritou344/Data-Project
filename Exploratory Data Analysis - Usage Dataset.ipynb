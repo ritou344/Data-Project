{
 "cells": [
  {
   "cell_type": "markdown",
   "id": "a8adc0c7",
   "metadata": {},
   "source": [
    "# Exploratory Data Analysis - Usage Dataset"
   ]
  },
  {
   "cell_type": "markdown",
   "id": "de00575f",
   "metadata": {},
   "source": [
    "---\n",
    "### <i>Changelogs:</i>\n",
    "\n",
    "  Name  |  Date  |   Description\n",
    "- **Kiet Vu**  |  03/17  | Create notebook. Minor Editing. Create \"Data Understanding\" section.\n",
    "\n",
    "---"
   ]
  },
  {
   "cell_type": "markdown",
   "id": "719feba0",
   "metadata": {},
   "source": [
    "## Table of Contents\n",
    "**Each phase of the process:**\n",
    "1. [Data Understanding](#Dataunderstanding)\n",
    "    1. [Initial Data Report](#Datareport)\n",
    "    2. [Describe Data](#Describedata)\n",
    "    3. [Verify Data Quality](#Verifydataquality)\n",
    "        1. [Missing Data](#MissingData) \n",
    "        2. [Outliers](#Outliers)\n",
    "    4. [Initial Data Exploration](#Exploredata)\n",
    "    5. [Data Quality Report](#Dataqualityreport)\n",
    "2. [Data Preparation](#Datapreparation)\n",
    "    1. [Select Your Data](#Selectyourdata)\n",
    "    2. [Cleanse the Data](#Cleansethedata)\n",
    "        1. [Label Encoding](#labelEncoding)\n",
    "        2. [Drop Unnecessary Columns](#DropCols)\n",
    "        3. [Altering Data Types](#AlteringDatatypes)\n",
    "        4. [Dealing With Zeros](#DealingZeros)\n",
    "        5. [Dealing With Duplicates](#DealingDuplicates)\n",
    "        4. [Remove Outliers](#RemoveOutliers)\n",
    "    3. [Construct Required Data](#Constructrequireddata)\n",
    "    4. [Integrate Data](#Integratedata)\n",
    "3. [Exploratory Data Analysis](#EDA)\n",
    "4. [Modelling](#Modelling)\n",
    "5. [Evaluation](#Evaluation)\n",
    "6. [Deployment](#Deployment)\n",
    "\n",
    "If you want to learn more about CRISP-DM, please refer to this link: https://www.sv-europe.com/crisp-dm-methodology/"
   ]
  },
  {
   "cell_type": "code",
   "execution_count": 1,
   "id": "1e992bd7",
   "metadata": {},
   "outputs": [],
   "source": [
    "# Import Libraries Required\n",
    "import pandas as pd\n",
    "import matplotlib.pyplot as plt\n",
    "%matplotlib inline\n",
    "import numpy as np\n",
    "import seaborn as sns\n",
    "#import folium\n",
    "#from folium import plugins\n",
    "#!pip install --upgrade geopandas\n",
    "#import geopandas"
   ]
  },
  {
   "cell_type": "code",
   "execution_count": 2,
   "id": "59b55b2d",
   "metadata": {},
   "outputs": [
    {
     "data": {
      "text/html": [
       "<div>\n",
       "<style scoped>\n",
       "    .dataframe tbody tr th:only-of-type {\n",
       "        vertical-align: middle;\n",
       "    }\n",
       "\n",
       "    .dataframe tbody tr th {\n",
       "        vertical-align: top;\n",
       "    }\n",
       "\n",
       "    .dataframe thead th {\n",
       "        text-align: right;\n",
       "    }\n",
       "</style>\n",
       "<table border=\"1\" class=\"dataframe\">\n",
       "  <thead>\n",
       "    <tr style=\"text-align: right;\">\n",
       "      <th></th>\n",
       "      <th>unique_identifier</th>\n",
       "      <th>usage</th>\n",
       "      <th>status</th>\n",
       "    </tr>\n",
       "  </thead>\n",
       "  <tbody>\n",
       "    <tr>\n",
       "      <th>0</th>\n",
       "      <td>0001230a214b39e0e5c463bfe440fb15</td>\n",
       "      <td>81440.0</td>\n",
       "      <td>FINALLED</td>\n",
       "    </tr>\n",
       "    <tr>\n",
       "      <th>1</th>\n",
       "      <td>000345e997e72b61b990d2689c76427f</td>\n",
       "      <td>556.3</td>\n",
       "      <td>ACTIVE</td>\n",
       "    </tr>\n",
       "    <tr>\n",
       "      <th>2</th>\n",
       "      <td>0003c4d7aeb24f319f0d7c6ddb60bb8f</td>\n",
       "      <td>32564.0</td>\n",
       "      <td>FINALLED</td>\n",
       "    </tr>\n",
       "    <tr>\n",
       "      <th>3</th>\n",
       "      <td>00082675e86a9f3cf5fdcc5d4cd9114d</td>\n",
       "      <td>5519.0</td>\n",
       "      <td>FINALLED</td>\n",
       "    </tr>\n",
       "    <tr>\n",
       "      <th>4</th>\n",
       "      <td>00095201031df44962513f378842d521</td>\n",
       "      <td>5946.0</td>\n",
       "      <td>ACTIVE</td>\n",
       "    </tr>\n",
       "    <tr>\n",
       "      <th>5</th>\n",
       "      <td>000a04481ee5acbb856a7c485a67423a</td>\n",
       "      <td>75468.0</td>\n",
       "      <td>FINALLED</td>\n",
       "    </tr>\n",
       "    <tr>\n",
       "      <th>6</th>\n",
       "      <td>000bee0b537b676a975a15999776581f</td>\n",
       "      <td>88280.0</td>\n",
       "      <td>FINALLED</td>\n",
       "    </tr>\n",
       "    <tr>\n",
       "      <th>7</th>\n",
       "      <td>000c88d34beda722f7b559bb056b7809</td>\n",
       "      <td>109258.0</td>\n",
       "      <td>ACTIVE</td>\n",
       "    </tr>\n",
       "    <tr>\n",
       "      <th>8</th>\n",
       "      <td>000f645a52095f72ec723133e2b0092c</td>\n",
       "      <td>9686.0</td>\n",
       "      <td>FINALLED</td>\n",
       "    </tr>\n",
       "    <tr>\n",
       "      <th>9</th>\n",
       "      <td>00109796f3c34d87f1ff2778498a8016</td>\n",
       "      <td>65700.0</td>\n",
       "      <td>FINALLED</td>\n",
       "    </tr>\n",
       "    <tr>\n",
       "      <th>10</th>\n",
       "      <td>0012e632be3d04fab35771fe3fb6db31</td>\n",
       "      <td>15194.0</td>\n",
       "      <td>ACTIVE</td>\n",
       "    </tr>\n",
       "    <tr>\n",
       "      <th>11</th>\n",
       "      <td>00130d1949e17227076bc7e4f75139af</td>\n",
       "      <td>22534.0</td>\n",
       "      <td>ACTIVE</td>\n",
       "    </tr>\n",
       "    <tr>\n",
       "      <th>12</th>\n",
       "      <td>00132da27bf07ae535d944c55f820f3e</td>\n",
       "      <td>247200.0</td>\n",
       "      <td>ACTIVE</td>\n",
       "    </tr>\n",
       "    <tr>\n",
       "      <th>13</th>\n",
       "      <td>0013e9592f8ddda6e6c3d6ef65523ed4</td>\n",
       "      <td>74304.0</td>\n",
       "      <td>FINALLED</td>\n",
       "    </tr>\n",
       "    <tr>\n",
       "      <th>14</th>\n",
       "      <td>001ad04ecd4caddf37a7ebf6caafaa6c</td>\n",
       "      <td>83016.0</td>\n",
       "      <td>FINALLED</td>\n",
       "    </tr>\n",
       "    <tr>\n",
       "      <th>15</th>\n",
       "      <td>001bd1817a1253f08b137041be4c3c9d</td>\n",
       "      <td>49813.0</td>\n",
       "      <td>ACTIVE</td>\n",
       "    </tr>\n",
       "    <tr>\n",
       "      <th>16</th>\n",
       "      <td>001ed9def989e5da26bf2dfc2cb0e8cc</td>\n",
       "      <td>8083.0</td>\n",
       "      <td>ACTIVE</td>\n",
       "    </tr>\n",
       "    <tr>\n",
       "      <th>17</th>\n",
       "      <td>001f13bf8ee7f7492974bb0336a77050</td>\n",
       "      <td>3181.0</td>\n",
       "      <td>FINALLED</td>\n",
       "    </tr>\n",
       "    <tr>\n",
       "      <th>18</th>\n",
       "      <td>001f8624e5391dc5c6fa6c35b883dd94</td>\n",
       "      <td>34272.0</td>\n",
       "      <td>FINALLED</td>\n",
       "    </tr>\n",
       "    <tr>\n",
       "      <th>19</th>\n",
       "      <td>00218024e941fddb05762b121ebdf5d1</td>\n",
       "      <td>9535.0</td>\n",
       "      <td>ACTIVE</td>\n",
       "    </tr>\n",
       "    <tr>\n",
       "      <th>20</th>\n",
       "      <td>0024b6930d8fdcf2a51c864573d22f61</td>\n",
       "      <td>5.1</td>\n",
       "      <td>ACTIVE</td>\n",
       "    </tr>\n",
       "    <tr>\n",
       "      <th>21</th>\n",
       "      <td>0025aeda3082aaa35e76bffefff29024</td>\n",
       "      <td>2517.0</td>\n",
       "      <td>ACTIVE</td>\n",
       "    </tr>\n",
       "    <tr>\n",
       "      <th>22</th>\n",
       "      <td>0026577e0126dccd4ae6928f8b5951e1</td>\n",
       "      <td>19025.0</td>\n",
       "      <td>ACTIVE</td>\n",
       "    </tr>\n",
       "    <tr>\n",
       "      <th>23</th>\n",
       "      <td>0026692138a0f60512c28f95bc26776e</td>\n",
       "      <td>240.0</td>\n",
       "      <td>ACTIVE</td>\n",
       "    </tr>\n",
       "    <tr>\n",
       "      <th>24</th>\n",
       "      <td>0026bddc20b14bb9e988c60e2accca9c</td>\n",
       "      <td>333.0</td>\n",
       "      <td>FINALLED</td>\n",
       "    </tr>\n",
       "    <tr>\n",
       "      <th>25</th>\n",
       "      <td>0027596a0e7252b3739cac6d56605226</td>\n",
       "      <td>68500.0</td>\n",
       "      <td>ACTIVE</td>\n",
       "    </tr>\n",
       "    <tr>\n",
       "      <th>26</th>\n",
       "      <td>0027a56994cb3c852a1da20ecc98ddc4</td>\n",
       "      <td>23857.8</td>\n",
       "      <td>ACTIVE</td>\n",
       "    </tr>\n",
       "    <tr>\n",
       "      <th>27</th>\n",
       "      <td>00292d1130a5b31886e6ea5b98142e41</td>\n",
       "      <td>26655.0</td>\n",
       "      <td>FINALLED</td>\n",
       "    </tr>\n",
       "    <tr>\n",
       "      <th>28</th>\n",
       "      <td>002b16fa70e9ed3ccc4b781b2f6bafc9</td>\n",
       "      <td>7874.0</td>\n",
       "      <td>ACTIVE</td>\n",
       "    </tr>\n",
       "    <tr>\n",
       "      <th>29</th>\n",
       "      <td>002d46249597829ea4abb009907a62d9</td>\n",
       "      <td>75160.0</td>\n",
       "      <td>FINALLED</td>\n",
       "    </tr>\n",
       "  </tbody>\n",
       "</table>\n",
       "</div>"
      ],
      "text/plain": [
       "                   unique_identifier     usage    status\n",
       "0   0001230a214b39e0e5c463bfe440fb15   81440.0  FINALLED\n",
       "1   000345e997e72b61b990d2689c76427f     556.3    ACTIVE\n",
       "2   0003c4d7aeb24f319f0d7c6ddb60bb8f   32564.0  FINALLED\n",
       "3   00082675e86a9f3cf5fdcc5d4cd9114d    5519.0  FINALLED\n",
       "4   00095201031df44962513f378842d521    5946.0    ACTIVE\n",
       "5   000a04481ee5acbb856a7c485a67423a   75468.0  FINALLED\n",
       "6   000bee0b537b676a975a15999776581f   88280.0  FINALLED\n",
       "7   000c88d34beda722f7b559bb056b7809  109258.0    ACTIVE\n",
       "8   000f645a52095f72ec723133e2b0092c    9686.0  FINALLED\n",
       "9   00109796f3c34d87f1ff2778498a8016   65700.0  FINALLED\n",
       "10  0012e632be3d04fab35771fe3fb6db31   15194.0    ACTIVE\n",
       "11  00130d1949e17227076bc7e4f75139af   22534.0    ACTIVE\n",
       "12  00132da27bf07ae535d944c55f820f3e  247200.0    ACTIVE\n",
       "13  0013e9592f8ddda6e6c3d6ef65523ed4   74304.0  FINALLED\n",
       "14  001ad04ecd4caddf37a7ebf6caafaa6c   83016.0  FINALLED\n",
       "15  001bd1817a1253f08b137041be4c3c9d   49813.0    ACTIVE\n",
       "16  001ed9def989e5da26bf2dfc2cb0e8cc    8083.0    ACTIVE\n",
       "17  001f13bf8ee7f7492974bb0336a77050    3181.0  FINALLED\n",
       "18  001f8624e5391dc5c6fa6c35b883dd94   34272.0  FINALLED\n",
       "19  00218024e941fddb05762b121ebdf5d1    9535.0    ACTIVE\n",
       "20  0024b6930d8fdcf2a51c864573d22f61       5.1    ACTIVE\n",
       "21  0025aeda3082aaa35e76bffefff29024    2517.0    ACTIVE\n",
       "22  0026577e0126dccd4ae6928f8b5951e1   19025.0    ACTIVE\n",
       "23  0026692138a0f60512c28f95bc26776e     240.0    ACTIVE\n",
       "24  0026bddc20b14bb9e988c60e2accca9c     333.0  FINALLED\n",
       "25  0027596a0e7252b3739cac6d56605226   68500.0    ACTIVE\n",
       "26  0027a56994cb3c852a1da20ecc98ddc4   23857.8    ACTIVE\n",
       "27  00292d1130a5b31886e6ea5b98142e41   26655.0  FINALLED\n",
       "28  002b16fa70e9ed3ccc4b781b2f6bafc9    7874.0    ACTIVE\n",
       "29  002d46249597829ea4abb009907a62d9   75160.0  FINALLED"
      ]
     },
     "execution_count": 2,
     "metadata": {},
     "output_type": "execute_result"
    }
   ],
   "source": [
    "# Import the orginal dataset\n",
    "df = pd.read_csv('Clean Data/usage_clean_20230314.csv',encoding_errors='ignore')\n",
    "df = df.copy()\n",
    "# first 30 records\n",
    "df.head(30)"
   ]
  },
  {
   "cell_type": "markdown",
   "id": "de4dc3a8",
   "metadata": {},
   "source": [
    "---\n",
    "## 1. Data Understanding <a class=\"anchor\" id=\"Dataunderstanding\"></a>"
   ]
  },
  {
   "cell_type": "markdown",
   "id": "6888950f",
   "metadata": {},
   "source": [
    "### 1.2 Describe Data <a class=\"anchor\" id=\"Describedata\"></a>"
   ]
  },
  {
   "cell_type": "code",
   "execution_count": 3,
   "id": "2150104c",
   "metadata": {},
   "outputs": [
    {
     "data": {
      "text/plain": [
       "unique_identifier     object\n",
       "usage                float64\n",
       "status                object\n",
       "dtype: object"
      ]
     },
     "execution_count": 3,
     "metadata": {},
     "output_type": "execute_result"
    }
   ],
   "source": [
    "df.dtypes"
   ]
  },
  {
   "cell_type": "code",
   "execution_count": 4,
   "id": "90d05bbf",
   "metadata": {},
   "outputs": [
    {
     "data": {
      "text/plain": [
       "Index(['unique_identifier', 'usage', 'status'], dtype='object')"
      ]
     },
     "execution_count": 4,
     "metadata": {},
     "output_type": "execute_result"
    }
   ],
   "source": [
    "df.columns"
   ]
  },
  {
   "cell_type": "code",
   "execution_count": 5,
   "id": "8ced7b0c",
   "metadata": {},
   "outputs": [
    {
     "data": {
      "text/plain": [
       "152658"
      ]
     },
     "execution_count": 5,
     "metadata": {},
     "output_type": "execute_result"
    }
   ],
   "source": [
    "df.size"
   ]
  },
  {
   "cell_type": "code",
   "execution_count": 6,
   "id": "ae46b784",
   "metadata": {},
   "outputs": [
    {
     "data": {
      "text/plain": [
       "(50886, 3)"
      ]
     },
     "execution_count": 6,
     "metadata": {},
     "output_type": "execute_result"
    }
   ],
   "source": [
    "df.shape"
   ]
  },
  {
   "cell_type": "code",
   "execution_count": 7,
   "id": "e64985aa",
   "metadata": {},
   "outputs": [
    {
     "name": "stdout",
     "output_type": "stream",
     "text": [
      "<class 'pandas.core.frame.DataFrame'>\n",
      "RangeIndex: 50886 entries, 0 to 50885\n",
      "Data columns (total 3 columns):\n",
      " #   Column             Non-Null Count  Dtype  \n",
      "---  ------             --------------  -----  \n",
      " 0   unique_identifier  50886 non-null  object \n",
      " 1   usage              50886 non-null  float64\n",
      " 2   status             50886 non-null  object \n",
      "dtypes: float64(1), object(2)\n",
      "memory usage: 1.2+ MB\n"
     ]
    }
   ],
   "source": [
    "df.info(verbose = True)"
   ]
  },
  {
   "cell_type": "code",
   "execution_count": 8,
   "id": "0be3ce5f",
   "metadata": {},
   "outputs": [
    {
     "data": {
      "text/html": [
       "<div>\n",
       "<style scoped>\n",
       "    .dataframe tbody tr th:only-of-type {\n",
       "        vertical-align: middle;\n",
       "    }\n",
       "\n",
       "    .dataframe tbody tr th {\n",
       "        vertical-align: top;\n",
       "    }\n",
       "\n",
       "    .dataframe thead th {\n",
       "        text-align: right;\n",
       "    }\n",
       "</style>\n",
       "<table border=\"1\" class=\"dataframe\">\n",
       "  <thead>\n",
       "    <tr style=\"text-align: right;\">\n",
       "      <th></th>\n",
       "      <th>usage</th>\n",
       "    </tr>\n",
       "  </thead>\n",
       "  <tbody>\n",
       "    <tr>\n",
       "      <th>count</th>\n",
       "      <td>5.088600e+04</td>\n",
       "    </tr>\n",
       "    <tr>\n",
       "      <th>mean</th>\n",
       "      <td>7.270579e+04</td>\n",
       "    </tr>\n",
       "    <tr>\n",
       "      <th>std</th>\n",
       "      <td>3.675301e+05</td>\n",
       "    </tr>\n",
       "    <tr>\n",
       "      <th>min</th>\n",
       "      <td>1.000000e-01</td>\n",
       "    </tr>\n",
       "    <tr>\n",
       "      <th>25%</th>\n",
       "      <td>9.922000e+03</td>\n",
       "    </tr>\n",
       "    <tr>\n",
       "      <th>50%</th>\n",
       "      <td>2.484000e+04</td>\n",
       "    </tr>\n",
       "    <tr>\n",
       "      <th>75%</th>\n",
       "      <td>6.028650e+04</td>\n",
       "    </tr>\n",
       "    <tr>\n",
       "      <th>max</th>\n",
       "      <td>4.170917e+07</td>\n",
       "    </tr>\n",
       "  </tbody>\n",
       "</table>\n",
       "</div>"
      ],
      "text/plain": [
       "              usage\n",
       "count  5.088600e+04\n",
       "mean   7.270579e+04\n",
       "std    3.675301e+05\n",
       "min    1.000000e-01\n",
       "25%    9.922000e+03\n",
       "50%    2.484000e+04\n",
       "75%    6.028650e+04\n",
       "max    4.170917e+07"
      ]
     },
     "execution_count": 8,
     "metadata": {},
     "output_type": "execute_result"
    }
   ],
   "source": [
    "df.describe()"
   ]
  },
  {
   "cell_type": "code",
   "execution_count": null,
   "id": "716581b9",
   "metadata": {},
   "outputs": [],
   "source": []
  }
 ],
 "metadata": {
  "kernelspec": {
   "display_name": "Python 3 (ipykernel)",
   "language": "python",
   "name": "python3"
  },
  "language_info": {
   "codemirror_mode": {
    "name": "ipython",
    "version": 3
   },
   "file_extension": ".py",
   "mimetype": "text/x-python",
   "name": "python",
   "nbconvert_exporter": "python",
   "pygments_lexer": "ipython3",
   "version": "3.9.13"
  }
 },
 "nbformat": 4,
 "nbformat_minor": 5
}
